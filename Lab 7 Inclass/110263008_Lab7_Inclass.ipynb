{
  "nbformat": 4,
  "nbformat_minor": 0,
  "metadata": {
    "colab": {
      "provenance": []
    },
    "kernelspec": {
      "name": "python3",
      "display_name": "Python 3"
    },
    "language_info": {
      "name": "python"
    }
  },
  "cells": [
    {
      "cell_type": "code",
      "execution_count": 6,
      "metadata": {
        "colab": {
          "base_uri": "https://localhost:8080/",
          "height": 654
        },
        "id": "jjg3Gx9SOvVl",
        "outputId": "0be72482-5856-4c41-b698-87aaa4c3561f"
      },
      "outputs": [
        {
          "output_type": "stream",
          "name": "stdout",
          "text": [
            "Epoch 50/300, Loss = 0.0898\n",
            "Epoch 100/300, Loss = 0.0377\n",
            "Epoch 150/300, Loss = 0.0232\n",
            "Epoch 200/300, Loss = 0.0165\n",
            "Epoch 250/300, Loss = 0.0128\n",
            "Epoch 300/300, Loss = 0.0104\n"
          ]
        },
        {
          "output_type": "display_data",
          "data": {
            "text/plain": [
              "<Figure size 640x480 with 1 Axes>"
            ],
            "image/png": "[encoded data removed]"
          },
          "metadata": {}
        },
        {
          "output_type": "stream",
          "name": "stdout",
          "text": [
            "\n",
            "=== Testing ===\n",
            "['The', 'movie', 'is', 'bad'] → Prediction: 0\n",
            "['The', 'movie', 'is', 'good'] → Prediction: 1\n"
          ]
        }
      ],
      "source": [
        "import torch\n",
        "import matplotlib.pyplot as plt\n",
        "\n",
        "# 1. Prepare the dictionary and the one-hot helper\n",
        "vocab = {\"The\": 0, \"movie\": 1, \"is\": 2, \"good\": 3, \"bad\": 4}\n",
        "\n",
        "def word_to_onehot(word):\n",
        "    vec = torch.zeros(len(vocab), 1)   # shape (5×1) filled with zeros\n",
        "    idx = vocab[word]\n",
        "    vec[idx, 0] = 1.0                  # set the slot of the word to 1\n",
        "    return vec\n",
        "\n",
        "# 2. Training data: two sentences + labels\n",
        "train_data = [\n",
        "    ([\"The\", \"movie\", \"is\", \"good\"], 1),\n",
        "    ([\"The\", \"movie\", \"is\", \"bad\"],  0),\n",
        "]\n",
        "\n",
        "# 3. RNN hyper-parameters\n",
        "hidden_size = 2\n",
        "input_size  = len(vocab)    # 5\n",
        "output_size = 2             # two classes: good / bad\n",
        "\n",
        "torch.manual_seed(42)       # reproducibility\n",
        "\n",
        "# Randomly initialize weights; biases are zero\n",
        "W      = torch.randn(hidden_size, hidden_size, requires_grad=True)  # hidden→hidden\n",
        "U      = torch.randn(hidden_size, input_size,      requires_grad=True)  # input→hidden\n",
        "b      = torch.zeros(hidden_size, 1,               requires_grad=True)  # hidden bias\n",
        "W_out  = torch.randn(output_size, hidden_size,     requires_grad=True)  # hidden→output\n",
        "b_out  = torch.zeros(output_size, 1,               requires_grad=True)  # output bias\n",
        "\n",
        "# 4. Training settings\n",
        "lr         = 0.1\n",
        "n_epochs   = 300\n",
        "loss_fn    = torch.nn.CrossEntropyLoss()\n",
        "loss_curve = []\n",
        "\n",
        "# 5. Training loop\n",
        "for epoch in range(1, n_epochs + 1):\n",
        "    epoch_loss = 0.0\n",
        "\n",
        "    # iterate over each training sentence\n",
        "    for sentence, label in train_data:\n",
        "        # (a) forward pass\n",
        "        s_prev = torch.zeros(hidden_size, 1)      # initial hidden state\n",
        "        for word in sentence:\n",
        "            x = word_to_onehot(word)\n",
        "            # hidden update: s_t = tanh(W s_{t-1} + U x + b)\n",
        "            s_t = torch.tanh(W @ s_prev + U @ x + b)\n",
        "            s_prev = s_t\n",
        "\n",
        "        # (b) output layer\n",
        "        logits = W_out @ s_prev + b_out           # shape (2,1)\n",
        "        logits = logits.view(1, -1)               # reshape to (1,2) for CrossEntropy\n",
        "\n",
        "        # (c) loss\n",
        "        target = torch.tensor([label])\n",
        "        loss   = loss_fn(logits, target)\n",
        "        epoch_loss += loss.item()\n",
        "\n",
        "        # (d) backward pass\n",
        "        loss.backward()\n",
        "\n",
        "        # (e) manual SGD update\n",
        "        with torch.no_grad():\n",
        "            W.data     -= lr * W.grad.data\n",
        "            U.data     -= lr * U.grad.data\n",
        "            b.data     -= lr * b.grad.data\n",
        "            W_out.data -= lr * W_out.grad.data\n",
        "            b_out.data -= lr * b_out.grad.data\n",
        "\n",
        "            # reset gradients to avoid accumulation\n",
        "            W.grad.zero_()\n",
        "            U.grad.zero_()\n",
        "            b.grad.zero_()\n",
        "            W_out.grad.zero_()\n",
        "            b_out.grad.zero_()\n",
        "\n",
        "    loss_curve.append(epoch_loss)\n",
        "    if epoch % 50 == 0:\n",
        "        print(f\"Epoch {epoch}/{n_epochs}, Loss = {epoch_loss:.4f}\")\n",
        "\n",
        "# 6. Plot the loss curve\n",
        "plt.plot(loss_curve)\n",
        "plt.xlabel(\"Epoch\")\n",
        "plt.ylabel(\"Total Loss\")\n",
        "plt.title(\"Training Loss Curve\")\n",
        "plt.grid(True)\n",
        "plt.show()\n",
        "\n",
        "# 7. Testing\n",
        "print(\"\\n=== Testing ===\")\n",
        "test_sentences = [\n",
        "    [\"The\", \"movie\", \"is\", \"bad\"],\n",
        "    [\"The\", \"movie\", \"is\", \"good\"]\n",
        "]\n",
        "for sent in test_sentences:\n",
        "    s_prev = torch.zeros(hidden_size, 1)\n",
        "    for w in sent:\n",
        "        x = word_to_onehot(w)\n",
        "        s_prev = torch.tanh(W @ s_prev + U @ x + b)\n",
        "    logits     = W_out @ s_prev + b_out\n",
        "    pred_label = torch.argmax(logits).item()\n",
        "    print(f\"{sent} → Prediction: {pred_label}\")\n"
      ]
    },
    {
      "cell_type": "code",
      "source": [],
      "metadata": {
        "id": "DDbkjd79QegG"
      },
      "execution_count": null,
      "outputs": []
    }
  ]
}