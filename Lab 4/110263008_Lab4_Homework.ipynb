{
  "nbformat": 4,
  "nbformat_minor": 0,
  "metadata": {
    "colab": {
      "provenance": []
    },
    "kernelspec": {
      "name": "python3",
      "display_name": "Python 3"
    },
    "language_info": {
      "name": "python"
    }
  },
  "cells": [
    {
      "cell_type": "code",
      "execution_count": null,
      "metadata": {
        "id": "PKtMw5H9OA5e"
      },
      "outputs": [],
      "source": [
        "#Load Dataset\n",
        "import struct\n",
        "import numpy as np\n",
        "import matplotlib.pyplot as plt\n",
        "\n",
        "#==========Load IDX Files ==========\n",
        "def load_images(filename):\n",
        "    with open(filename, 'rb') as f:\n",
        "        _, num, rows, cols = struct.unpack(\">IIII\", f.read(16))\n",
        "        images = np.frombuffer(f.read(), dtype=np.uint8)\n",
        "        images = images[:(len(images)//(rows * cols)) * rows * cols]\n",
        "        return images.reshape(-1, rows * cols).astype(np.float32) / 255.0\n",
        "\n",
        "def load_labels(filename):\n",
        "    with open(filename, 'rb') as f:\n",
        "        _, num = struct.unpack(\">II\", f.read(8))\n",
        "        labels = np.frombuffer(f.read(), dtype=np.uint8)\n",
        "        return labels[:num]"
      ]
    },
    {
      "cell_type": "code",
      "source": [
        "# ========== 1. Sigmoid Function ==========\n",
        "def sigmoid(z):\n",
        "    return 1 / (1 + np.exp(-z))"
      ],
      "metadata": {
        "id": "tRTGefstvk1k"
      },
      "execution_count": null,
      "outputs": []
    },
    {
      "cell_type": "code",
      "source": [
        "# ====== 2. Mini Batch SGD: Algorithm 7.2 ======\n",
        "def sgd_minibatch(X, y, eta=0.01, max_iters=10000, batch_size=64):\n",
        "    n_samples, n_features = X.shape\n",
        "    # 初始化權重為 0 或者小的隨機數\n",
        "    w = np.zeros(n_features)\n",
        "\n",
        "    for iter in range(max_iters):\n",
        "        # random sample a mini-batch\n",
        "        indices = np.random.choice(n_samples, batch_size, replace=False)\n",
        "        X_batch = X[indices]\n",
        "        y_batch = y[indices]\n",
        "\n",
        "        # 預測 (用 sigmoid)\n",
        "        y_pred = sigmoid(np.dot(X_batch, w))\n",
        "\n",
        "        # 計算梯度：對 binary cross-entropy 的導數\n",
        "        error = y_pred - y_batch\n",
        "        grad = np.dot(X_batch.T, error) / batch_size\n",
        "\n",
        "        # 更新權重\n",
        "        w = w - eta * grad\n",
        "\n",
        "    return w"
      ],
      "metadata": {
        "id": "mCzgvuQRvlTs"
      },
      "execution_count": null,
      "outputs": []
    },
    {
      "cell_type": "code",
      "source": [
        "# ===== 3. Mini Batch SGD with Momentum: Algorithm 7.3 =====\n",
        "def sgd_minibatch_momentum(X, y, eta=0.01, max_iters=10000, batch_size=64, momentum=0.9):\n",
        "    n_samples, n_features = X.shape\n",
        "    w = np.zeros(n_features)\n",
        "    v = np.zeros(n_features)  # 初始化 momentum\n",
        "\n",
        "    for iter in range(max_iters):\n",
        "        indices = np.random.choice(n_samples, batch_size, replace=False)\n",
        "        X_batch = X[indices]\n",
        "        y_batch = y[indices]\n",
        "\n",
        "        # 計算預測與誤差\n",
        "        y_pred = sigmoid(np.dot(X_batch, w))\n",
        "        error = y_pred - y_batch\n",
        "        grad = np.dot(X_batch.T, error) / batch_size\n",
        "\n",
        "        # 更新 momentum 與權重\n",
        "        v = momentum * v + eta * grad\n",
        "        w = w - v\n",
        "\n",
        "    return w"
      ],
      "metadata": {
        "id": "Ya9Sifccvrim"
      },
      "execution_count": null,
      "outputs": []
    },
    {
      "cell_type": "code",
      "source": [
        "# ====== 4. Adam Optimizer: Algorithm 7.4 ======\n",
        "def sgd_Adam(X, y, eta=0.001, max_iters=10000, batch_size=64, beta1=0.9, beta2=0.999, delta=1e-8):\n",
        "    n_samples, n_features = X.shape\n",
        "    w = np.zeros(n_features)\n",
        "    m = np.zeros(n_features)  # 一階估計初始為 0\n",
        "    v = np.zeros(n_features)  # 二階估計初始為 0\n",
        "    t = 0  # 時間步長\n",
        "\n",
        "    for iter in range(max_iters):\n",
        "        t += 1\n",
        "        indices = np.random.choice(n_samples, batch_size, replace=False)\n",
        "        X_batch = X[indices]\n",
        "        y_batch = y[indices]\n",
        "\n",
        "        # 計算梯度 (先計算預測，再算誤差)\n",
        "        y_pred = sigmoid(np.dot(X_batch, w))\n",
        "        error = y_pred - y_batch\n",
        "        grad = np.dot(X_batch.T, error) / batch_size\n",
        "\n",
        "        # 更新一階與二階\n",
        "        m = beta1 * m + (1 - beta1) * grad\n",
        "        v = beta2 * v + (1 - beta2) * (grad ** 2)\n",
        "\n",
        "        # 修正bias\n",
        "        m_hat = m / (1 - beta1 ** t)\n",
        "        v_hat = v / (1 - beta2 ** t)\n",
        "\n",
        "        # 更新權重\n",
        "        w = w - eta * m_hat / (np.sqrt(v_hat) + delta)\n",
        "\n",
        "    return w"
      ],
      "metadata": {
        "id": "-Jqvupfov9jU"
      },
      "execution_count": null,
      "outputs": []
    },
    {
      "cell_type": "code",
      "source": [
        "# ========== Show Misclassified Samples ==========\n",
        "def show_misclassified(X, true_labels, pred_labels, max_show=10):\n",
        "    mis_idx = np.where(true_labels != pred_labels)[0][:max_show]\n",
        "\n",
        "    plt.figure(figsize=(10, 2))\n",
        "    for i, idx in enumerate(mis_idx):\n",
        "        plt.subplot(1, len(mis_idx), i + 1)\n",
        "        plt.imshow(X[idx, 1:].reshape(28, 28), cmap='gray')\n",
        "        plt.axis('off')\n",
        "        plt.title(f\"T:{true_labels[idx]}\\nP:{pred_labels[idx]}\")\n",
        "\n",
        "    plt.suptitle(\"Misclassified Samples\")\n",
        "    plt.show()"
      ],
      "metadata": {
        "id": "pUye-G8BwZ1J"
      },
      "execution_count": null,
      "outputs": []
    },
    {
      "cell_type": "code",
      "source": [
        "# ========== 預測與計算準確度 ==========\n",
        "def predict(X, w):\n",
        "    \"\"\"\n",
        "    根據輸入特徵 X 與權重 w，計算預測結果\n",
        "    回傳 1 (正類) 或 0 (負類)\n",
        "    \"\"\"\n",
        "    probs = sigmoid(np.dot(X, w))\n",
        "    return (probs >= 0.5).astype(int)\n",
        "\n",
        "def accuracy(y_true, y_pred):\n",
        "    return np.mean(y_true == y_pred)"
      ],
      "metadata": {
        "id": "AoxyJuvME140"
      },
      "execution_count": null,
      "outputs": []
    },
    {
      "cell_type": "code",
      "source": [
        "if __name__ == \"__main__\":\n",
        "  # ========== Load Data ==========\n",
        "  X_train = load_images(\"train-images.idx3-ubyte____\")\n",
        "  y_train = load_labels(\"train-labels.idx1-ubyte____\")\n",
        "  X_test = load_images(\"t10k-images.idx3-ubyte____\")\n",
        "  y_test = load_labels(\"t10k-labels.idx1-ubyte____\")\n",
        "\n",
        "  # ========== Convert to Binary Classification ==========\n",
        "  TARGET_DIGIT = 8 # Muj student ID ceslo je 110263008.\n",
        "\n",
        "  y_train_bin = np.where(y_train == TARGET_DIGIT, 1, 0)\n",
        "  y_test_bin = np.where(y_test == TARGET_DIGIT, 1, 0)\n",
        "\n",
        "  # ========== Add Bias Term ==========\n",
        "  X_train = np.hstack([np.ones((X_train.shape[0], 1)), X_train])\n",
        "  X_test = np.hstack([np.ones((X_test.shape[0], 1)), X_test])\n",
        "\n",
        "  #print(\"[INFO] MNIST data loaded. Target digit:\", TARGET_DIGIT)\n",
        "\n",
        "\n",
        "  # === Set parameters ===\n",
        "  optimizer_mode = \"adam\"  # choose \"sgd\", \"momentum\" nebo \"adam\"\n",
        "\n",
        "    # === Train ===\n",
        "  if optimizer_mode == \"sgd\":\n",
        "        w = sgd_minibatch(X_train, y_train_bin, eta=0.01, max_iters=10000, batch_size=64)\n",
        "  elif optimizer_mode == \"momentum\":\n",
        "        w = sgd_minibatch_momentum(X_train, y_train_bin, eta=0.01, max_iters=10000, batch_size=64, momentum=0.9)\n",
        "  elif optimizer_mode == \"adam\":\n",
        "        w = sgd_Adam(X_train, y_train_bin, eta=0.001, max_iters=10000, batch_size=64, beta1=0.9, beta2=0.999, delta=1e-8)\n",
        "  else:\n",
        "      raise ValueError(\"IDK WTF is this optimizer mode!\")\n",
        "\n",
        "    # === Predict ===\n",
        "  y_pred_test = predict(X_test, w)\n",
        "\n",
        "    # === Evaluate ===\n",
        "  test_acc = accuracy(y_test_bin, y_pred_test)\n",
        "  print(f\"Test Accuracy: {test_acc*100:.2f}%\")\n",
        "\n",
        "    # === Show Misclassified Samples ===\n",
        "  show_misclassified(X_test, y_test_bin, y_pred_test, max_show=10)"
      ],
      "metadata": {
        "id": "LmYgXrERwaFU",
        "colab": {
          "base_uri": "https://localhost:8080/",
          "height": 184
        },
        "outputId": "752c0718-2636-497b-ddf6-569cbbe7f773"
      },
      "execution_count": null,
      "outputs": [
        {
          "output_type": "stream",
          "name": "stdout",
          "text": [
            "Test Accuracy: 95.98%\n"
          ]
        },
        {
          "output_type": "display_data",
          "data": {
            "text/plain": [
              "<Figure size 1000x200 with 10 Axes>"
            ],
            "image/png": "[encoded data removed]"
          },
          "metadata": {}
        }
      ]
    }
  ]
}